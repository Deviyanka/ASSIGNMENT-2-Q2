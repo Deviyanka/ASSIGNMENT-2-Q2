{
  "nbformat": 4,
  "nbformat_minor": 0,
  "metadata": {
    "colab": {
      "provenance": [],
      "authorship_tag": "ABX9TyMb+89dNxXMqOzH8NKBisVz",
      "include_colab_link": true
    },
    "kernelspec": {
      "name": "python3",
      "display_name": "Python 3"
    },
    "language_info": {
      "name": "python"
    }
  },
  "cells": [
    {
      "cell_type": "markdown",
      "metadata": {
        "id": "view-in-github",
        "colab_type": "text"
      },
      "source": [
        "<a href=\"https://colab.research.google.com/github/Deviyanka/ASSIGNMENT-2-Q2/blob/main/ASSIGNMENT_1_Q2.ipynb\" target=\"_parent\"><img src=\"https://colab.research.google.com/assets/colab-badge.svg\" alt=\"Open In Colab\"/></a>"
      ]
    },
    {
      "cell_type": "markdown",
      "source": [
        "ASSIGNMENT - 1"
      ],
      "metadata": {
        "id": "Dn3FSLb2sZmd"
      }
    },
    {
      "cell_type": "markdown",
      "source": [
        "Q2. D is a dictionary defined as D= {1:5.6, 2:7.8, 3:6.6, 4:8.7, 5:7.7}."
      ],
      "metadata": {
        "id": "4heKUY7isiut"
      }
    },
    {
      "cell_type": "markdown",
      "source": [
        "2.a WAP to add new entry in D; key=8 and value is 8.8"
      ],
      "metadata": {
        "id": "qIVM0fDKsrgj"
      }
    },
    {
      "cell_type": "code",
      "source": [
        "D = {1:5.6,2:7.8,3:6.6,4:8.7,5:7.7}\n",
        "print(\"ORIGINAL DICTIONARY ---> : \",D)\n",
        "D[8]=8.8\n",
        "print(\"AFTER ADDING NEW ENTRY ---> : \",D)"
      ],
      "metadata": {
        "colab": {
          "base_uri": "https://localhost:8080/"
        },
        "id": "axZZQ42_s8JD",
        "outputId": "f32c64c6-af9e-4b84-f305-c80ce7810565"
      },
      "execution_count": null,
      "outputs": [
        {
          "output_type": "stream",
          "name": "stdout",
          "text": [
            "ORIGINAL DICTIONARY ---> :  {1: 5.6, 2: 7.8, 3: 6.6, 4: 8.7, 5: 7.7}\n",
            "AFTER ADDING NEW ENTRY ---> :  {1: 5.6, 2: 7.8, 3: 6.6, 4: 8.7, 5: 7.7, 8: 8.8}\n"
          ]
        }
      ]
    },
    {
      "cell_type": "markdown",
      "source": [
        "2.b WAP to remove key=2."
      ],
      "metadata": {
        "id": "IgLQry7IuNoI"
      }
    },
    {
      "cell_type": "code",
      "source": [
        "D = {1:5.6,2:7.8,3:6.6,4:8.7,5:7.7}\n",
        "print(\"ORIGINAL DICTIONARY ---> : \",D)\n",
        "del D[2]\n",
        "print(\"AFTER DELETING ---> \",D)"
      ],
      "metadata": {
        "colab": {
          "base_uri": "https://localhost:8080/"
        },
        "id": "LoTJwYGquS1c",
        "outputId": "f1b62d3a-7d82-41ce-edf2-425acd032654"
      },
      "execution_count": null,
      "outputs": [
        {
          "output_type": "stream",
          "name": "stdout",
          "text": [
            "ORIGINAL DICTIONARY ---> :  {1: 5.6, 2: 7.8, 3: 6.6, 4: 8.7, 5: 7.7}\n",
            "AFTER DELETING --->  {1: 5.6, 3: 6.6, 4: 8.7, 5: 7.7}\n"
          ]
        }
      ]
    },
    {
      "cell_type": "markdown",
      "source": [
        "2.c WAP to check weather 6 key is present in D."
      ],
      "metadata": {
        "id": "S_Civr5nvNqz"
      }
    },
    {
      "cell_type": "code",
      "source": [
        "D = {1:5.6,2:7.8,3:6.6,4:8.7,5:7.7}\n",
        "print(\"IS KEY 6 PRESENT --> \",6 in D)"
      ],
      "metadata": {
        "colab": {
          "base_uri": "https://localhost:8080/"
        },
        "id": "MR7Y3ssEvU4Q",
        "outputId": "af52f0ba-d12f-48b3-a94e-dbb0fb2b591d"
      },
      "execution_count": null,
      "outputs": [
        {
          "output_type": "stream",
          "name": "stdout",
          "text": [
            "IS KEY 6 PRESENT -->  False\n"
          ]
        }
      ]
    },
    {
      "cell_type": "markdown",
      "source": [
        "2.d WAP to count the number of elements present in D."
      ],
      "metadata": {
        "id": "e-778OYewOK5"
      }
    },
    {
      "cell_type": "code",
      "source": [
        "D = {1:5.6,2:7.8,3:6.6,4:8.7,5:7.7}\n",
        "print(\"NUMBER OF ELEMENTS IN D --> \",len(D))"
      ],
      "metadata": {
        "colab": {
          "base_uri": "https://localhost:8080/"
        },
        "id": "S6nQB3C1wZto",
        "outputId": "168356f1-0101-4f3d-f006-6bc541625e3e"
      },
      "execution_count": null,
      "outputs": [
        {
          "output_type": "stream",
          "name": "stdout",
          "text": [
            "NUMBER OF ELEMENTS IN D -->  5\n"
          ]
        }
      ]
    },
    {
      "cell_type": "markdown",
      "source": [
        "2.e WAP to add all the values present D."
      ],
      "metadata": {
        "id": "pwUWmWxkw9Tm"
      }
    },
    {
      "cell_type": "code",
      "source": [
        "\n",
        "def returnSum(D):\n",
        "    return sum(D.values())\n",
        "\n",
        "D = {1:5.6,2:7.8,3:6.6,4:8.7,5:7.7}\n",
        "print(\"Sum :\", returnSum(D))"
      ],
      "metadata": {
        "colab": {
          "base_uri": "https://localhost:8080/"
        },
        "id": "SXeFFetExBmb",
        "outputId": "0559d32d-6938-479d-a636-244e36acb230"
      },
      "execution_count": null,
      "outputs": [
        {
          "output_type": "stream",
          "name": "stdout",
          "text": [
            "Sum : 36.4\n"
          ]
        }
      ]
    },
    {
      "cell_type": "markdown",
      "source": [
        "OR"
      ],
      "metadata": {
        "id": "B3GFLssv0Tpn"
      }
    },
    {
      "cell_type": "code",
      "source": [
        "D = {1:5.6,2:7.8,3:6.6,4:8.7,5:7.7}\n",
        "print(\"SUM OF ALL VALUES ---> \",sum(D.values()))"
      ],
      "metadata": {
        "colab": {
          "base_uri": "https://localhost:8080/"
        },
        "id": "zOfBZTcFzyMP",
        "outputId": "8e8ed9ce-48de-465e-c135-9126bb3f34d5"
      },
      "execution_count": null,
      "outputs": [
        {
          "output_type": "stream",
          "name": "stdout",
          "text": [
            "SUM OF ALL VALUES --->  36.4\n"
          ]
        }
      ]
    },
    {
      "cell_type": "markdown",
      "source": [
        "2.f WAP to update the value of 3 to 7.1."
      ],
      "metadata": {
        "id": "Lb33U0u70WeM"
      }
    },
    {
      "cell_type": "code",
      "source": [
        "D = {1:5.6,2:7.8,3:6.6,4:8.7,5:7.7}\n",
        "print(\"ORIGINAL DICTIONARY ---> : \",D)\n",
        "D[3] = 7.1\n",
        "print(\"AFTER UPDATING      ---> : \",D)"
      ],
      "metadata": {
        "colab": {
          "base_uri": "https://localhost:8080/"
        },
        "id": "zw_y3X5i0bQU",
        "outputId": "911e9e02-f63f-424e-85cc-309c40278720"
      },
      "execution_count": null,
      "outputs": [
        {
          "output_type": "stream",
          "name": "stdout",
          "text": [
            "ORIGINAL DICTIONARY ---> :  {1: 5.6, 2: 7.8, 3: 6.6, 4: 8.7, 5: 7.7}\n",
            "AFTER UPDATING      ---> :  {1: 5.6, 2: 7.8, 3: 7.1, 4: 8.7, 5: 7.7}\n"
          ]
        }
      ]
    },
    {
      "cell_type": "markdown",
      "source": [
        "2.g WAP to clear the dictionary."
      ],
      "metadata": {
        "id": "dtl0Gmrl05OJ"
      }
    },
    {
      "cell_type": "code",
      "source": [
        "D = {1:5.6,2:7.8,3:6.6,4:8.7,5:7.7}\n",
        "print(\"ORIGINAL DICTIONARY ---> : \",D)\n",
        "D.clear()\n",
        "print(\"AFTER CLEARING  ---> : \",D)"
      ],
      "metadata": {
        "colab": {
          "base_uri": "https://localhost:8080/"
        },
        "id": "RdgJS0gm0_GX",
        "outputId": "6090a58f-c88e-4fc0-a5c5-5764ca887233"
      },
      "execution_count": null,
      "outputs": [
        {
          "output_type": "stream",
          "name": "stdout",
          "text": [
            "ORIGINAL DICTIONARY ---> :  {1: 5.6, 2: 7.8, 3: 6.6, 4: 8.7, 5: 7.7}\n",
            "AFTER CLEARING  ---> :  {}\n"
          ]
        }
      ]
    }
  ]
}